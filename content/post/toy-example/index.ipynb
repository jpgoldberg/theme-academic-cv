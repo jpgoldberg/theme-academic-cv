{
 "cells": [
  {
   "cell_type": "raw",
   "metadata": {},
   "source": [
    "---\n",
    "title: \"A toy example\"\n",
    "subtitle: \"An attempt to blog using Jupyter\"\n",
    "summary: \"A little bit of toy cryptography in a Jupyter notebook\"\n",
    "authors: [jpgoldberg]\n",
    "tags: []\n",
    "categories: []\n",
    "date: 2025-01-29T00:14:42Z\n",
    "lastmod: 2025-01-29T00:14:42Z\n",
    "featured: false\n",
    "draft: true\n",
    "---"
   ]
  },
  {
   "cell_type": "markdown",
   "metadata": {},
   "source": [
    "# Jupyter and Hugo\n",
    "\n",
    "I have not had a lot of fun dealing with Hugo, HugoBlox, and academic-cv updates.\n",
    "Perhaps someday I will write about what I learned, although I have not quite figured that out yet.\n",
    "\n",
    "So for now we have a simple test of posting from Jupyter notebooks.\n"
   ]
  },
  {
   "cell_type": "markdown",
   "metadata": {},
   "source": [
    "Attempting to follow the instructions https://miguelrodrigues.org/post/jupyter/"
   ]
  },
  {
   "cell_type": "markdown",
   "metadata": {},
   "source": [
    "## Toy crypto examples\n",
    "\n",
    "I've created a [toycrypto Python project](https://pypi.org/project/toycrypto/) primarily so that I could create reproducible code examples, including Jupyter notebooks, so that is what I will use for examples here."
   ]
  },
  {
   "cell_type": "code",
   "execution_count": 16,
   "metadata": {},
   "outputs": [],
   "source": [
    "import secrets\n",
    "from toy_crypto import sec_games, utils"
   ]
  },
  {
   "cell_type": "code",
   "execution_count": 17,
   "metadata": {},
   "outputs": [],
   "source": [
    "message1: bytes = b\"Attack at dawn!\"\n",
    "message2: bytes = b\"Attack at dusk!\""
   ]
  },
  {
   "cell_type": "markdown",
   "metadata": {},
   "source": [
    "We want to create a key that is at least as long as the message, and we want to use a cryptographically secure random number generator to do so."
   ]
  },
  {
   "cell_type": "code",
   "execution_count": 18,
   "metadata": {},
   "outputs": [
    {
     "name": "stdout",
     "output_type": "stream",
     "text": [
      "ef3523a2cafa973f96008cb141e447\n",
      "[239, 53, 35, 162, 202, 250, 151, 63, 150, 0, 140, 177, 65, 228, 71]\n"
     ]
    }
   ],
   "source": [
    "length = len(message1)\n",
    "key: bytes = secrets.randbits(length * 8).to_bytes(length)\n",
    "print(key.hex())\n",
    "print(list(key))"
   ]
  },
  {
   "cell_type": "markdown",
   "metadata": {},
   "source": [
    "Xor-ing the message with key gives us the ciphertext bytes"
   ]
  },
  {
   "cell_type": "code",
   "execution_count": 19,
   "metadata": {},
   "outputs": [
    {
     "name": "stdout",
     "output_type": "stream",
     "text": [
      "ae4157c3a991b75ee220e8d0368a66\n",
      "[174, 65, 87, 195, 169, 145, 183, 94, 226, 32, 232, 208, 54, 138, 102]\n"
     ]
    }
   ],
   "source": [
    "ciphertext: bytes = utils.xor(message1, key)\n",
    "print(ciphertext.hex())\n",
    "print(list(ciphertext))"
   ]
  },
  {
   "cell_type": "markdown",
   "metadata": {},
   "source": [
    "If you do not know the key, the _contents_ of the ciphertext (other than its length) tells you nothing you _didn't already know_ about the message.\n",
    "\n",
    "Suppose you already had reason to suspect that the message is either \"`Attack at dawn!`\" or \"`Attack at dusk!`\". Examining the ciphertext gives you no way to improve or update your assessment of the content of the message."
   ]
  },
  {
   "cell_type": "markdown",
   "metadata": {},
   "source": [
    "Someone who knows the key can decrypt."
   ]
  },
  {
   "cell_type": "code",
   "execution_count": 20,
   "metadata": {},
   "outputs": [
    {
     "name": "stdout",
     "output_type": "stream",
     "text": [
      "b'Attack at dawn!'\n"
     ]
    }
   ],
   "source": [
    "decrypted: bytes = utils.xor(ciphertext, key)\n",
    "print(decrypted)"
   ]
  },
  {
   "cell_type": "markdown",
   "metadata": {},
   "source": [
    "### Malleablity\n",
    "\n",
    "Even if an attacker can't learn anything new about the message from the ciphertext, they can still do damage if they have a good guess at its contents and have the opportunity to tamper with it in transit.\n",
    "\n",
    "So again, let's assume that the attacker has reason to believe (via spies for example) that the message is either \"`Attack at dawn!`\" or \"`Attack at dusk!`\". The attacker can modify the ciphertext so that it will decrypt to the wrong message.\n"
   ]
  },
  {
   "cell_type": "markdown",
   "metadata": {},
   "source": [
    "\n",
    "The attacker first creates a sequwence of bytes that is the difference between to two messages\n"
   ]
  },
  {
   "cell_type": "code",
   "execution_count": 21,
   "metadata": {},
   "outputs": [
    {
     "name": "stdout",
     "output_type": "stream",
     "text": [
      "000000000000000000000014040500\n",
      "[0, 0, 0, 0, 0, 0, 0, 0, 0, 0, 0, 20, 4, 5, 0]\n"
     ]
    }
   ],
   "source": [
    "dusk_dawn_diff = utils.xor(message1, message2)\n",
    "\n",
    "print(dusk_dawn_diff.hex())\n",
    "print(list(dusk_dawn_diff))"
   ]
  },
  {
   "cell_type": "markdown",
   "metadata": {},
   "source": [
    "The attacker takes the original ciphertext and xors it with the ciphertext to get a modified ciphertext."
   ]
  },
  {
   "cell_type": "code",
   "execution_count": 22,
   "metadata": {},
   "outputs": [],
   "source": [
    "modified_ctext = utils.xor(ciphertext, dusk_dawn_diff)"
   ]
  },
  {
   "cell_type": "markdown",
   "metadata": {},
   "source": [
    "When the intended recipient decrypts the modified ciphertext they get the wrong messagew."
   ]
  },
  {
   "cell_type": "code",
   "execution_count": 23,
   "metadata": {},
   "outputs": [
    {
     "name": "stdout",
     "output_type": "stream",
     "text": [
      "b'Attack at dusk!'\n"
     ]
    }
   ],
   "source": [
    "decrypted = utils.xor(modified_ctext, key)\n",
    "print(decrypted)"
   ]
  }
 ],
 "metadata": {
  "kernelspec": {
   "display_name": ".venv",
   "language": "python",
   "name": "python3"
  },
  "language_info": {
   "codemirror_mode": {
    "name": "ipython",
    "version": 3
   },
   "file_extension": ".py",
   "mimetype": "text/x-python",
   "name": "python",
   "nbconvert_exporter": "python",
   "pygments_lexer": "ipython3",
   "version": "3.12.5"
  }
 },
 "nbformat": 4,
 "nbformat_minor": 2
}
