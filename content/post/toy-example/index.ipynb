{
 "cells": [
  {
   "cell_type": "raw",
   "metadata": {},
   "source": [
    "---\n",
    "title: \"A toy example\"\n",
    "subtitle: \"An attempt to blog using Jupyter\"\n",
    "summary: \"A little bit of toy cryptography in a Jupyter notebook\"\n",
    "authors: [jpgoldberg]\n",
    "tags: []\n",
    "categories: []\n",
    "date: 2025-01-29T00:14:42Z\n",
    "lastmod: 2025-01-29T00:14:42Z\n",
    "featured: false\n",
    "draft: true\n",
    "---"
   ]
  },
  {
   "cell_type": "markdown",
   "metadata": {},
   "source": [
    "# Jupyter and Hugo\n",
    "\n",
    "I have not had a lot of fun dealing with Hugo, HugoBlox, and academic-cv updates.\n",
    "Perhaps someday I will write about what I learned, although I have not quite figured that out yet.\n",
    "\n",
    "So for now we have a simple test of posting from Jupyter notebooks.\n"
   ]
  },
  {
   "cell_type": "markdown",
   "metadata": {},
   "source": [
    "Attempting to follow the instructions https://miguelrodrigues.org/post/jupyter/"
   ]
  },
  {
   "cell_type": "markdown",
   "metadata": {},
   "source": [
    "## Toy crypto examples\n",
    "\n",
    "I've created a [toycrypto Python project](https://pypi.org/project/toycrypto/) primarily so that I could create reproducible code examples, including Jupyter notebooks, so that is what I will use for examples here."
   ]
  },
  {
   "cell_type": "code",
   "execution_count": 1,
   "metadata": {},
   "outputs": [],
   "source": [
    "import secrets\n",
    "from toy_crypto import sec_games, utils"
   ]
  },
  {
   "cell_type": "code",
   "execution_count": 2,
   "metadata": {},
   "outputs": [],
   "source": [
    "message1: bytes = b\"Attack at dawn!\"\n",
    "message2: bytes = b\"Attack at dusk!\""
   ]
  },
  {
   "cell_type": "markdown",
   "metadata": {},
   "source": [
    "We want to create a key that is at least as long as the message, and we want to use a cryptographically secure random number generator to do so."
   ]
  },
  {
   "cell_type": "code",
   "execution_count": 3,
   "metadata": {},
   "outputs": [
    {
     "name": "stdout",
     "output_type": "stream",
     "text": [
      "b90b953ede8d8ff9915539abbb7b3a\n",
      "[185, 11, 149, 62, 222, 141, 143, 249, 145, 85, 57, 171, 187, 123, 58]\n"
     ]
    }
   ],
   "source": [
    "length = len(message1)\n",
    "key: bytes = secrets.randbits(length * 8).to_bytes(length)\n",
    "print(key.hex())\n",
    "print(list(key))"
   ]
  },
  {
   "cell_type": "markdown",
   "metadata": {},
   "source": [
    "Xor-ing the message with key gives us the ciphertext bytes"
   ]
  },
  {
   "cell_type": "code",
   "execution_count": 4,
   "metadata": {},
   "outputs": [
    {
     "name": "stdout",
     "output_type": "stream",
     "text": [
      "f87fe15fbde6af98e5755dcacc151b\n",
      "[248, 127, 225, 95, 189, 230, 175, 152, 229, 117, 93, 202, 204, 21, 27]\n"
     ]
    }
   ],
   "source": [
    "ciphertext: bytes = utils.xor(message1, key)\n",
    "print(ciphertext.hex())\n",
    "print(list(ciphertext))"
   ]
  },
  {
   "cell_type": "markdown",
   "metadata": {},
   "source": [
    "If you do not know the key, the _contents_ of the ciphertext (other than its length) tells you nothing you _didn't already know_ about the message.\n",
    "\n",
    "Suppose you already had reason to suspect that the message is either \"`Attack at dawn!`\" or \"`Attack at dusk!`\". Examining the ciphertext gives you no way to improve or update your assessment of the content of the message."
   ]
  },
  {
   "cell_type": "markdown",
   "metadata": {},
   "source": [
    "Someone who knows the key can decrypt."
   ]
  },
  {
   "cell_type": "code",
   "execution_count": 5,
   "metadata": {},
   "outputs": [
    {
     "name": "stdout",
     "output_type": "stream",
     "text": [
      "b'Attack at dawn!'\n"
     ]
    }
   ],
   "source": [
    "decrypted: bytes = utils.xor(ciphertext, key)\n",
    "print(decrypted)"
   ]
  },
  {
   "cell_type": "markdown",
   "metadata": {},
   "source": [
    "### Malleablity\n",
    "\n",
    "Even if an attacker can't learn anything new about the message from the ciphertext, they can still do damage if they have a good guess at its contents and have the opportunity to tamper with it in transit.\n",
    "\n",
    "So again, let's assume that the attacker has reason to believe (via spies for example) that the message is either \"`Attack at dawn!`\" or \"`Attack at dusk!`\". The attacker can modify the ciphertext so that it will decrypt to the wrong message.\n"
   ]
  },
  {
   "cell_type": "markdown",
   "metadata": {},
   "source": [
    "\n",
    "The attacker first creates a sequence of bytes that is the difference between to two messages\n"
   ]
  },
  {
   "cell_type": "code",
   "execution_count": 6,
   "metadata": {},
   "outputs": [
    {
     "name": "stdout",
     "output_type": "stream",
     "text": [
      "000000000000000000000014040500\n",
      "[0, 0, 0, 0, 0, 0, 0, 0, 0, 0, 0, 20, 4, 5, 0]\n"
     ]
    }
   ],
   "source": [
    "dusk_dawn_diff = utils.xor(message1, message2)\n",
    "\n",
    "print(dusk_dawn_diff.hex())\n",
    "print(list(dusk_dawn_diff))"
   ]
  },
  {
   "cell_type": "markdown",
   "metadata": {},
   "source": [
    "The attacker takes the original ciphertext and xors it with the ciphertext to get a modified ciphertext."
   ]
  },
  {
   "cell_type": "code",
   "execution_count": 7,
   "metadata": {},
   "outputs": [],
   "source": [
    "modified_ctext = utils.xor(ciphertext, dusk_dawn_diff)"
   ]
  },
  {
   "cell_type": "markdown",
   "metadata": {},
   "source": [
    "When the intended recipient decrypts the modified ciphertext they get the wrong message."
   ]
  },
  {
   "cell_type": "code",
   "execution_count": 8,
   "metadata": {},
   "outputs": [
    {
     "name": "stdout",
     "output_type": "stream",
     "text": [
      "b'Attack at dusk!'\n"
     ]
    }
   ],
   "source": [
    "decrypted = utils.xor(modified_ctext, key)\n",
    "print(decrypted)"
   ]
  },
  {
   "cell_type": "markdown",
   "metadata": {},
   "source": [
    "### Security games\n",
    "\n",
    "Security games help model a combination of adversary capabilities with security goals.\n",
    "\n",
    "The game or (challenger) is built from an encryption scheme which includes\n",
    "\n",
    "- a key generation function;\n",
    "- an encryption function;\n",
    "- and a decryption function."
   ]
  },
  {
   "cell_type": "markdown",
   "metadata": {},
   "source": [
    "For our first example, we will use a shift cipher."
   ]
  },
  {
   "cell_type": "code",
   "execution_count": 9,
   "metadata": {},
   "outputs": [],
   "source": [
    "def shift_cipher_encrypt(key: int, message: bytes) -> bytes:\n",
    "    ctext = bytes([(b + key) % 256 for b in message])\n",
    "    return ctext"
   ]
  },
  {
   "cell_type": "markdown",
   "metadata": {},
   "source": [
    "And we can try it out."
   ]
  },
  {
   "cell_type": "code",
   "execution_count": 10,
   "metadata": {},
   "outputs": [
    {
     "data": {
      "text/plain": [
       "b'Dwwdfn#dw#gdzq'"
      ]
     },
     "execution_count": 10,
     "metadata": {},
     "output_type": "execute_result"
    }
   ],
   "source": [
    "shift_cipher_encrypt(3, b\"Attack at dawn\")"
   ]
  },
  {
   "cell_type": "code",
   "execution_count": 11,
   "metadata": {},
   "outputs": [],
   "source": [
    "def shift_cipher_decrypt(key: int, message: bytes) -> bytes:\n",
    "    ctext = bytes([(b - key) % 256 for b in message])\n",
    "    return ctext"
   ]
  },
  {
   "cell_type": "code",
   "execution_count": 12,
   "metadata": {},
   "outputs": [],
   "source": [
    "def shift_cipher_keygen() -> int:\n",
    "    return secrets.randbelow(256)"
   ]
  },
  {
   "cell_type": "code",
   "execution_count": 13,
   "metadata": {},
   "outputs": [],
   "source": [
    "key = shift_cipher_keygen()\n",
    "\n",
    "m = b\"Attack at dawn!\"\n",
    "\n",
    "assert m == shift_cipher_decrypt(key, shift_cipher_encrypt(key, m))"
   ]
  },
  {
   "cell_type": "markdown",
   "metadata": {},
   "source": [
    "For the IND-EAV (Indistinguishability in the presense of a eavesdropper) we won't be using the decryption function, so we just define the game with the key generation function and the encryption function.\n"
   ]
  },
  {
   "cell_type": "code",
   "execution_count": 14,
   "metadata": {},
   "outputs": [],
   "source": [
    "shift_eav_game = sec_games.IndEav(shift_cipher_keygen, shift_cipher_encrypt)"
   ]
  },
  {
   "cell_type": "markdown",
   "metadata": {},
   "source": [
    "The challenger (the game) must pick a key and a bit, _b_ that it keeps to itself. This is done with the `initialize()` method."
   ]
  },
  {
   "cell_type": "code",
   "execution_count": 15,
   "metadata": {},
   "outputs": [],
   "source": [
    "shift_eav_game.initialize()"
   ]
  },
  {
   "cell_type": "markdown",
   "metadata": {},
   "source": [
    "The adversary picks two plaintexts."
   ]
  },
  {
   "cell_type": "code",
   "execution_count": 16,
   "metadata": {},
   "outputs": [],
   "source": [
    "m0 = b\"AA\"\n",
    "m1 = b\"AB\""
   ]
  },
  {
   "cell_type": "markdown",
   "metadata": {},
   "source": [
    "We tell the challenger will encrypt one of them depending in its choice of bit _b_ and its key which it created during inititialization."
   ]
  },
  {
   "cell_type": "code",
   "execution_count": 17,
   "metadata": {},
   "outputs": [],
   "source": [
    "ctext = shift_eav_game.encrypt_one(m0, m1)"
   ]
  },
  {
   "cell_type": "markdown",
   "metadata": {},
   "source": [
    "Now the adversary uses its understanding of m0, m1, ctext and how the shift cipher works to try to construct a guess of whether m0 m1 was encrypted.\n",
    "\n",
    "In this case it is easy, because the shift cipher will encrypt each identical input byte the same way. Different input bytes will be encrypted differently."
   ]
  },
  {
   "cell_type": "code",
   "execution_count": 18,
   "metadata": {},
   "outputs": [],
   "source": [
    "if ctext[0] == ctext[1]:\n",
    "    #  \"AA\" was encrypted\n",
    "    guess = False  # b is 0\n",
    "else:\n",
    "    # \"AB\" was encrypted\n",
    "    guess = True  # b is 1"
   ]
  },
  {
   "cell_type": "markdown",
   "metadata": {},
   "source": [
    "And now we check whether the guess was correct"
   ]
  },
  {
   "cell_type": "code",
   "execution_count": 19,
   "metadata": {},
   "outputs": [
    {
     "data": {
      "text/plain": [
       "True"
      ]
     },
     "execution_count": 19,
     "metadata": {},
     "output_type": "execute_result"
    }
   ],
   "source": [
    "shift_eav_game.finalize(guess)"
   ]
  }
 ],
 "metadata": {
  "kernelspec": {
   "display_name": ".venv",
   "language": "python",
   "name": "python3"
  },
  "language_info": {
   "codemirror_mode": {
    "name": "ipython",
    "version": 3
   },
   "file_extension": ".py",
   "mimetype": "text/x-python",
   "name": "python",
   "nbconvert_exporter": "python",
   "pygments_lexer": "ipython3",
   "version": "3.12.5"
  }
 },
 "nbformat": 4,
 "nbformat_minor": 2
}
